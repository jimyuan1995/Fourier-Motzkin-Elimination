{
 "cells": [
  {
   "cell_type": "code",
   "execution_count": 63,
   "metadata": {},
   "outputs": [],
   "source": [
    "import numpy as np\n",
    "import itertools\n",
    "import unittest\n",
    "\n",
    "np.set_printoptions(precision=3)"
   ]
  },
  {
   "cell_type": "code",
   "execution_count": 11,
   "metadata": {},
   "outputs": [],
   "source": [
    "def regularise(R, k):\n",
    "    return np.apply_along_axis(lambda r : r / np.abs(r[k]) if r[k] != 0 else r, 1, R)\n",
    "\n",
    "def check_feasibility(R):\n",
    "    rhs = R.T[-1]\n",
    "    return len(list(filter(lambda v : v > 0, rhs))) == 0\n"
   ]
  },
  {
   "cell_type": "code",
   "execution_count": 66,
   "metadata": {},
   "outputs": [
    {
     "data": {
      "text/plain": [
       "[4.0, 5.0]"
      ]
     },
     "execution_count": 66,
     "metadata": {},
     "output_type": "execute_result"
    }
   ],
   "source": [
    "def find_xn(R):\n",
    "    limits = set()\n",
    "    \n",
    "    lower_bounds = list(filter(lambda r : r[0] > 0, R))\n",
    "    if len(lower_bounds) > 0:\n",
    "        lower_bounds = map(lambda r : r[1] / r[0], lower_bounds)\n",
    "        lower = max(lower_bounds)\n",
    "        limits.add(lower)\n",
    "\n",
    "    upper_bounds = list(filter(lambda r : r[0] < 0, R))\n",
    "    if len(upper_bounds) > 0:\n",
    "        upper_bounds = map(lambda r : r[1] / r[0], upper_bounds)\n",
    "        upper = min(upper_bounds)\n",
    "        limits.add(upper)\n",
    "        \n",
    "    return list(limits)\n",
    "    \n",
    "list(find_xn(np.array([\n",
    "    [1, 4],\n",
    "    [-1, -5]\n",
    "])))\n",
    "\n",
    "    "
   ]
  },
  {
   "cell_type": "code",
   "execution_count": 50,
   "metadata": {},
   "outputs": [
    {
     "data": {
      "text/plain": [
       "[2.0, inf]"
      ]
     },
     "execution_count": 50,
     "metadata": {},
     "output_type": "execute_result"
    }
   ],
   "source": [
    "def find_xk(R, xs, k):\n",
    "    assert(R.shape[1] == (k + 1) + len(xs) + 1)\n",
    "    xs = np.pad(xs, (k + 1, 1), constant_values=0)\n",
    "    offset = np.apply_along_axis(sum, 1, R * xs)\n",
    "    S = np.column_stack([R.T[k], R.T[-1] - offset])\n",
    "    return find_xn(S)\n",
    "\n",
    "list(find_xk(np.array([[2, 1, 6]]), [2], 0))"
   ]
  },
  {
   "cell_type": "code",
   "execution_count": 51,
   "metadata": {},
   "outputs": [
    {
     "name": "stdout",
     "output_type": "stream",
     "text": [
      "back_propagate step 0:\n",
      "[array([inf, inf, inf]), array([-inf,  inf, -inf]), array([ inf,  inf, -inf]), array([ inf, -inf,  inf]), array([ inf, -inf, -inf])]\n"
     ]
    },
    {
     "name": "stderr",
     "output_type": "stream",
     "text": [
      "/home/ubuntu/.local/lib/python3.6/site-packages/numpy/lib/shape_base.py:379: RuntimeWarning: invalid value encountered in double_scalars\n",
      "  res = asanyarray(func1d(inarr_view[ind0], *args, **kwargs))\n",
      "/home/ubuntu/.local/lib/python3.6/site-packages/numpy/lib/shape_base.py:402: RuntimeWarning: invalid value encountered in double_scalars\n",
      "  buff[ind] = asanyarray(func1d(inarr_view[ind], *args, **kwargs))\n"
     ]
    },
    {
     "data": {
      "text/plain": [
       "array([[ inf,  inf,  inf],\n",
       "       [-inf,  inf, -inf],\n",
       "       [ inf,  inf, -inf],\n",
       "       [ inf, -inf,  inf],\n",
       "       [ inf, -inf, -inf]])"
      ]
     },
     "execution_count": 51,
     "metadata": {},
     "output_type": "execute_result"
    }
   ],
   "source": [
    "def back_substitute(Rs, n, k):\n",
    "    if k == n:\n",
    "        Rs = Rs[:-1]\n",
    "        k = k - 1\n",
    "       \n",
    "    Xs = list(itertools.product([np.inf, -np.inf], repeat=n-k-1))\n",
    "    \n",
    "    while k >= 0:\n",
    "        R = Rs[k]\n",
    "        Ts = []\n",
    "        for xs in Xs:\n",
    "            X_k = list(filter(lambda x : not np.isnan(x), find_xk(R, xs, k)))\n",
    "            Ts.extend(map(lambda x_k : np.hstack([[x_k], xs]), X_k))\n",
    "        Xs = Ts\n",
    "        print(f\"back_propagate step {k}:\\n{Xs}\")\n",
    "        k -= 1\n",
    "    \n",
    "    return np.array(Xs)\n",
    "\n",
    "# back_substitute([ np.array([[2, 1, 6], [1, 1, -6]]), np.array([[0, 1, 2], [0, -1, -3]]), np.array([[0, -1]]) ], 2, 2)\n",
    "back_substitute([ np.array([[2, 1, -1, 6], [1, 1, -1, -6]]) ], 3, 0)"
   ]
  },
  {
   "cell_type": "code",
   "execution_count": 79,
   "metadata": {},
   "outputs": [
    {
     "data": {
      "text/plain": [
       "array([[ 1.,  1., -1., -1., -1., -0.,  6.],\n",
       "       [ 1.,  2., -1., -2., -0., -1.,  2.],\n",
       "       [-1., -1.,  1.,  1.,  1.,  0., -6.],\n",
       "       [-1., -2.,  1.,  2.,  0.,  1., -2.],\n",
       "       [ 1.,  0.,  0.,  0.,  0.,  0.,  0.],\n",
       "       [ 0.,  1.,  0.,  0.,  0.,  0.,  0.],\n",
       "       [ 0.,  0.,  1.,  0.,  0.,  0.,  0.],\n",
       "       [ 0.,  0.,  0.,  1.,  0.,  0.,  0.],\n",
       "       [ 0.,  0.,  0.,  0.,  1.,  0.,  0.],\n",
       "       [ 0.,  0.,  0.,  0.,  0.,  1.,  0.]])"
      ]
     },
     "execution_count": 79,
     "metadata": {},
     "output_type": "execute_result"
    }
   ],
   "source": [
    "def generate_constraint(A, b):\n",
    "    A = np.array(A)\n",
    "    b = np.array(b)\n",
    "    n = A.shape[1]\n",
    "    m = A.shape[0]\n",
    "    E = np.hstack([A, -A, -np.identity(m), np.array([b]).T])\n",
    "    E = np.vstack([E, -E])\n",
    "    V = np.hstack([np.identity(2 * n + m), [[0]] * (2 * n + m)])\n",
    "    E = np.vstack([E, V])\n",
    "    return E\n",
    "\n",
    "generate_constraint([[1, 1], [1, 2]], [6, 2])"
   ]
  },
  {
   "cell_type": "code",
   "execution_count": 102,
   "metadata": {
    "scrolled": true
   },
   "outputs": [],
   "source": [
    "def linprog(c, A, b):\n",
    "    A = np.array(A)\n",
    "    b = np.array(b)\n",
    "    c = np.array(c)\n",
    "    \n",
    "    # min c^T x\n",
    "    # subject to: Ax >= b\n",
    "    R_0 = generate_constraint(A, b)\n",
    "    \n",
    "    Rs = [R_0]\n",
    "    k = 0\n",
    "    n = R_0.shape[1] - 1\n",
    "    while k < n:\n",
    "        R_k = Rs[k]\n",
    "        R_k = regularise(R_k, k)\n",
    "        print(f\"step {k}:\\n{R_k}\")\n",
    "        \n",
    "        w = R_k.T[k]\n",
    "        zeros = []\n",
    "        ones = []\n",
    "        minus_ones = []\n",
    "        for i in range(len(w)):\n",
    "            if w[i] == 0:\n",
    "                zeros.append(i)\n",
    "            elif w[i] == 1:\n",
    "                ones.append(i)\n",
    "            else:\n",
    "                minus_ones.append(i)\n",
    "\n",
    "        m = len(w)\n",
    "        if len(zeros) == m: # all 0s\n",
    "            # mark x_k arbitrary\n",
    "            Rs.append(R_k)\n",
    "            k += 1\n",
    "            continue\n",
    "\n",
    "        if len(ones) == m or len(minus_ones) == m: # all 1s or -1s\n",
    "            # we cannot reduce the system\n",
    "            Xs = back_substitute(Rs, n, k)\n",
    "            break\n",
    "\n",
    "        if len(ones) + len(zeros) == m or len(minus_ones) + len(zeros) == m:\n",
    "            # use the constraints with zero coefficients as reduced system\n",
    "            S = list(map(lambda i : R_k[i], zeros))\n",
    "            Rs.append(np.array(S))\n",
    "            k += 1\n",
    "            continue\n",
    "\n",
    "        S = list(map(lambda i : R_k[i], zeros))\n",
    "        for i in ones:\n",
    "            for j in minus_ones:\n",
    "                r = R_k[i] + R_k[j]\n",
    "                if any(r):\n",
    "                    S.append(r)\n",
    "        Rs.append(np.array(S))\n",
    "        k += 1\n",
    "    else:\n",
    "        if not check_feasibility(Rs[-1]):\n",
    "            return None\n",
    "        Xs = back_substitute(Rs, n, n)\n",
    "    \n",
    "    n = A.shape[1]\n",
    "    Xs = np.around(Xs, decimals=3)\n",
    "    Xs = Xs[:, :n] - Xs[:, n: 2*n]\n",
    "    values = map(lambda xs : (xs, np.sum(xs * c)), Xs)\n",
    "    values = filter(lambda v : not np.isnan(v[1]), values)\n",
    "    values = list(values)\n",
    "    \n",
    "    print(f\"values:\\n{values}\")\n",
    "    \n",
    "    return min(values, key=lambda v: v[1])"
   ]
  },
  {
   "cell_type": "code",
   "execution_count": 103,
   "metadata": {
    "scrolled": false
   },
   "outputs": [
    {
     "name": "stdout",
     "output_type": "stream",
     "text": [
      "step 0:\n",
      "[[ 1.   7.5 -1.  -7.5 -0.5 -0.  -0.   5.5]\n",
      " [ 1.   6.  -1.  -6.  -0.  -0.5 -0.   4. ]\n",
      " [ 1.   4.5 -1.  -4.5 -0.  -0.  -0.5  2.5]\n",
      " [-1.  -7.5  1.   7.5  0.5  0.   0.  -5.5]\n",
      " [-1.  -6.   1.   6.   0.   0.5  0.  -4. ]\n",
      " [-1.  -4.5  1.   4.5  0.   0.   0.5 -2.5]\n",
      " [ 1.   0.   0.   0.   0.   0.   0.   0. ]\n",
      " [ 0.   1.   0.   0.   0.   0.   0.   0. ]\n",
      " [ 0.   0.   1.   0.   0.   0.   0.   0. ]\n",
      " [ 0.   0.   0.   1.   0.   0.   0.   0. ]\n",
      " [ 0.   0.   0.   0.   1.   0.   0.   0. ]\n",
      " [ 0.   0.   0.   0.   0.   1.   0.   0. ]\n",
      " [ 0.   0.   0.   0.   0.   0.   1.   0. ]]\n",
      "step 1:\n",
      "[[ 0.     1.     0.     0.     0.     0.     0.     0.   ]\n",
      " [ 0.     0.     1.     0.     0.     0.     0.     0.   ]\n",
      " [ 0.     0.     0.     1.     0.     0.     0.     0.   ]\n",
      " [ 0.     0.     0.     0.     1.     0.     0.     0.   ]\n",
      " [ 0.     0.     0.     0.     0.     1.     0.     0.   ]\n",
      " [ 0.     0.     0.     0.     0.     0.     1.     0.   ]\n",
      " [ 0.     1.     0.    -1.    -0.333  0.333  0.     1.   ]\n",
      " [ 0.     1.     0.    -1.    -0.167  0.     0.167  1.   ]\n",
      " [ 0.    -1.     0.     1.     0.333 -0.333  0.    -1.   ]\n",
      " [ 0.     1.     0.    -1.     0.    -0.333  0.333  1.   ]\n",
      " [ 0.    -1.     0.     1.     0.167  0.    -0.167 -1.   ]\n",
      " [ 0.    -1.     0.     1.     0.     0.333 -0.333 -1.   ]\n",
      " [ 0.    -1.     0.133  1.     0.067  0.     0.    -0.733]\n",
      " [ 0.    -1.     0.167  1.     0.     0.083  0.    -0.667]\n",
      " [ 0.    -1.     0.222  1.     0.     0.     0.111 -0.556]]\n",
      "step 2:\n",
      "[[ 0.     0.     1.     0.     0.     0.     0.     0.   ]\n",
      " [ 0.     0.     0.     1.     0.     0.     0.     0.   ]\n",
      " [ 0.     0.     0.     0.     1.     0.     0.     0.   ]\n",
      " [ 0.     0.     0.     0.     0.     1.     0.     0.   ]\n",
      " [ 0.     0.     0.     0.     0.     0.     1.     0.   ]\n",
      " [ 0.     0.     0.     1.     0.333 -0.333  0.    -1.   ]\n",
      " [ 0.     0.     0.     1.     0.167  0.    -0.167 -1.   ]\n",
      " [ 0.     0.     0.     1.     0.     0.333 -0.333 -1.   ]\n",
      " [ 0.     0.     1.     7.5    0.5    0.     0.    -5.5  ]\n",
      " [ 0.     0.     1.     6.     0.     0.5    0.    -4.   ]\n",
      " [ 0.     0.     1.     4.5    0.     0.     0.5   -2.5  ]\n",
      " [ 0.     0.     0.     0.    -0.167  0.333 -0.167  0.   ]\n",
      " [ 0.     0.     0.     0.    -0.333  0.667 -0.333  0.   ]\n",
      " [ 0.     0.     1.     0.    -2.     2.5    0.     2.   ]\n",
      " [ 0.     0.     1.     0.    -2.     2.5    0.     2.   ]\n",
      " [ 0.     0.     1.     0.    -1.5    1.5    0.5    2.   ]\n",
      " [ 0.     0.     0.     0.     0.167 -0.333  0.167  0.   ]\n",
      " [ 0.     0.     0.     0.    -0.167  0.333 -0.167  0.   ]\n",
      " [ 0.     0.     1.     0.    -0.75   0.     1.25   2.   ]\n",
      " [ 0.     0.     1.     0.    -1.     0.5    1.     2.   ]\n",
      " [ 0.     0.     1.     0.    -0.75   0.     1.25   2.   ]\n",
      " [ 0.     0.     0.     0.     0.333 -0.667  0.333  0.   ]\n",
      " [ 0.     0.     0.     0.     0.167 -0.333  0.167  0.   ]\n",
      " [ 0.     0.     1.     0.     0.5   -2.5    2.5    2.   ]\n",
      " [ 0.     0.     1.     0.     0.    -1.5    2.     2.   ]\n",
      " [ 0.     0.     1.     0.     0.    -1.5    2.     2.   ]]\n",
      "step 3:\n",
      "[[ 0.     0.     0.     1.     0.     0.     0.     0.   ]\n",
      " [ 0.     0.     0.     0.     1.     0.     0.     0.   ]\n",
      " [ 0.     0.     0.     0.     0.     1.     0.     0.   ]\n",
      " [ 0.     0.     0.     0.     0.     0.     1.     0.   ]\n",
      " [ 0.     0.     0.     1.     0.333 -0.333  0.    -1.   ]\n",
      " [ 0.     0.     0.     1.     0.167  0.    -0.167 -1.   ]\n",
      " [ 0.     0.     0.     1.     0.     0.333 -0.333 -1.   ]\n",
      " [ 0.     0.     0.     0.    -0.167  0.333 -0.167  0.   ]\n",
      " [ 0.     0.     0.     0.    -0.333  0.667 -0.333  0.   ]\n",
      " [ 0.     0.     0.     0.     0.167 -0.333  0.167  0.   ]\n",
      " [ 0.     0.     0.     0.    -0.167  0.333 -0.167  0.   ]\n",
      " [ 0.     0.     0.     0.     0.333 -0.667  0.333  0.   ]\n",
      " [ 0.     0.     0.     0.     0.167 -0.333  0.167  0.   ]]\n",
      "step 4:\n",
      "[[ 0.  0.  0.  0.  1.  0.  0.  0.]\n",
      " [ 0.  0.  0.  0.  0.  1.  0.  0.]\n",
      " [ 0.  0.  0.  0.  0.  0.  1.  0.]\n",
      " [ 0.  0.  0.  0. -1.  2. -1.  0.]\n",
      " [ 0.  0.  0.  0. -1.  2. -1.  0.]\n",
      " [ 0.  0.  0.  0.  1. -2.  1.  0.]\n",
      " [ 0.  0.  0.  0. -1.  2. -1.  0.]\n",
      " [ 0.  0.  0.  0.  1. -2.  1.  0.]\n",
      " [ 0.  0.  0.  0.  1. -2.  1.  0.]]\n",
      "step 5:\n",
      "[[ 0.   0.   0.   0.   0.   1.   0.   0. ]\n",
      " [ 0.   0.   0.   0.   0.   0.   1.   0. ]\n",
      " [ 0.   0.   0.   0.   0.   1.  -0.5  0. ]\n",
      " [ 0.   0.   0.   0.   0.   1.  -0.5  0. ]\n",
      " [ 0.   0.   0.   0.   0.   1.  -0.5  0. ]]\n",
      "step 6:\n",
      "[[0. 0. 0. 0. 0. 0. 1. 0.]]\n",
      "back_propagate step 6:\n",
      "[array([0.])]\n",
      "back_propagate step 5:\n",
      "[array([0., 0.])]\n",
      "back_propagate step 4:\n",
      "[array([0., 0., 0.])]\n",
      "back_propagate step 3:\n",
      "[array([0., 0., 0., 0.])]\n",
      "back_propagate step 2:\n",
      "[array([2., 0., 0., 0., 0.])]\n",
      "back_propagate step 1:\n",
      "[array([1., 2., 0., 0., 0., 0.])]\n",
      "back_propagate step 0:\n",
      "[array([4.441e-16, 1.000e+00, 2.000e+00, 0.000e+00, 0.000e+00, 0.000e+00,\n",
      "       0.000e+00]), array([-0.,  1.,  2.,  0.,  0.,  0.,  0.])]\n",
      "values:\n",
      "[(array([-2.,  1.]), 4.0), (array([-2.,  1.]), 4.0)]\n"
     ]
    },
    {
     "data": {
      "text/plain": [
       "(array([-2.,  1.]), 4.0)"
      ]
     },
     "execution_count": 103,
     "metadata": {},
     "output_type": "execute_result"
    }
   ],
   "source": [
    "A = [[2, 15], [2, 12], [2, 9]]\n",
    "b = [11, 8, 5]\n",
    "c = [1, 6]\n",
    "linprog(c, A, b)"
   ]
  },
  {
   "cell_type": "code",
   "execution_count": 9,
   "metadata": {
    "scrolled": true
   },
   "outputs": [
    {
     "name": "stderr",
     "output_type": "stream",
     "text": [
      "test1 (__main__.LinProgTest) ... ok\n",
      "test2 (__main__.LinProgTest) ... ok\n",
      "test3 (__main__.LinProgTest) ... ok\n",
      "test4 (__main__.LinProgTest) ... /home/ubuntu/.local/lib/python3.6/site-packages/numpy/core/fromnumeric.py:87: RuntimeWarning: invalid value encountered in reduce\n",
      "  return ufunc.reduce(obj, axis, dtype, out, **passkwargs)\n",
      "ok\n",
      "test5 (__main__.LinProgTest) ... "
     ]
    },
    {
     "name": "stdout",
     "output_type": "stream",
     "text": [
      "step 0:\n",
      "[[ 1.  5.]\n",
      " [-1.  3.]]\n",
      "back_propagate step 0:\n",
      "[array([-3.]), array([5.])]\n",
      "values:\n",
      "[(array([-3.]), -3.0), (array([5.]), 5.0)]\n",
      "step 0:\n",
      "[[ 1.  5.]\n",
      " [-1. -6.]]\n",
      "step 0:\n",
      "[[ 1.  5.]\n",
      " [-1. -6.]]\n",
      "step 0:\n",
      "[[1. 1. 6.]\n",
      " [1. 2. 2.]]\n",
      "back_propagate step 0:\n",
      "[array([-inf,  inf]), array([-inf, -inf]), array([ inf, -inf])]\n",
      "values:\n",
      "[(array([-inf, -inf]), -inf)]\n",
      "step 0:\n",
      "[[1. 1. 6.]\n",
      " [1. 2. 2.]]\n",
      "back_propagate step 0:\n",
      "[array([-inf,  inf]), array([-inf, -inf]), array([ inf, -inf])]\n",
      "values:\n",
      "[(array([-inf, -inf]), -inf)]\n"
     ]
    },
    {
     "name": "stderr",
     "output_type": "stream",
     "text": [
      "ok\n",
      "\n",
      "----------------------------------------------------------------------\n",
      "Ran 5 tests in 0.020s\n",
      "\n",
      "OK\n"
     ]
    },
    {
     "data": {
      "text/plain": [
       "<unittest.main.TestProgram at 0x7ffdf8a5c748>"
      ]
     },
     "execution_count": 9,
     "metadata": {},
     "output_type": "execute_result"
    }
   ],
   "source": [
    "class LinProgTest(unittest.TestCase):    \n",
    "    def test1(self):\n",
    "        A = [[1], [-1]]\n",
    "        b = [5, 3]\n",
    "        c = [1]\n",
    "        result = linprog(c, A, b)\n",
    "        self.assertEqual(result[1], -3)\n",
    "    \n",
    "    def test2(self):\n",
    "        A = [[1], [-1]]\n",
    "        b = [5, -6]\n",
    "        c = [1]\n",
    "        result = linprog(c, A, b)\n",
    "        self.assertEqual(result, None)\n",
    "    \n",
    "    def test3(self):\n",
    "        A = [[1], [-1]]\n",
    "        b = [5, -6]\n",
    "        c = [1]\n",
    "        result = linprog(c, A, b)\n",
    "        self.assertEqual(result, None)\n",
    "        \n",
    "    def test4(self):\n",
    "        A = [[1, 1], [1, 2]]\n",
    "        b = [6, 2]\n",
    "        c = [1, 1]\n",
    "        result = linprog(c, A, b)\n",
    "        self.assertEqual(result[1], -np.inf)\n",
    "        \n",
    "    def test5(self):\n",
    "        A = [[1, 1], [1, 2]]\n",
    "        b = [6, 2]\n",
    "        c = [1, 1]\n",
    "        result = linprog(c, A, b)\n",
    "        self.assertEqual(result[1], -np.inf)\n",
    "        \n",
    "unittest.main(argv=[''], verbosity=2, exit=False)"
   ]
  },
  {
   "cell_type": "code",
   "execution_count": 316,
   "metadata": {},
   "outputs": [
    {
     "name": "stdout",
     "output_type": "stream",
     "text": [
      "step 0:\n",
      "[[ 1.   7.5 -2.5  5.5]\n",
      " [ 1.   6.  -2.   4. ]\n",
      " [ 1.   4.5 -1.5  0. ]\n",
      " [ 0.  -1.   0.   0. ]\n",
      " [ 0.   0.  -1.   0. ]]\n",
      "step 1:\n",
      "[[ 0. -1.  0.  0.]\n",
      " [ 0.  0. -1.  0.]]\n",
      "step 2:\n",
      "[[ 0.  0. -1.  0.]]\n",
      "back_propagate step 2:\n",
      "[array([-0.]), array([inf])]\n",
      "back_propagate step 1:\n",
      "[array([-0., -0.]), array([inf, -0.]), array([inf, inf])]\n",
      "back_propagate step 0:\n",
      "[array([-inf,  -0.,  -0.]), array([ 0., -0., -0.]), array([-inf,  inf,  -0.]), array([-inf,  inf,  inf])]\n",
      "values:\n",
      "[(array([-inf,  -0.,  -0.]), -inf), (array([ 0., -0., -0.]), 0.0)]\n"
     ]
    },
    {
     "name": "stderr",
     "output_type": "stream",
     "text": [
      "/home/ubuntu/python-for-finance/venv/lib/python3.6/site-packages/ipykernel_launcher.py:4: RuntimeWarning: invalid value encountered in multiply\n",
      "  after removing the cwd from sys.path.\n"
     ]
    },
    {
     "data": {
      "text/plain": [
       "(array([-inf,  -0.,  -0.]), -inf)"
      ]
     },
     "execution_count": 316,
     "metadata": {},
     "output_type": "execute_result"
    }
   ],
   "source": [
    "A = [[2, 15, -5], [2, 12, -4], [2, 9, -3], [0, -1, 0], [0, 0, -1]]\n",
    "b = [11, 8, 0, 0, 0]\n",
    "c = [1, 6, -2]\n",
    "linprog(c, A, b)"
   ]
  },
  {
   "cell_type": "code",
   "execution_count": 317,
   "metadata": {},
   "outputs": [
    {
     "data": {
      "text/plain": [
       "nan"
      ]
     },
     "execution_count": 317,
     "metadata": {},
     "output_type": "execute_result"
    }
   ],
   "source": []
  },
  {
   "cell_type": "code",
   "execution_count": null,
   "metadata": {},
   "outputs": [],
   "source": []
  }
 ],
 "metadata": {
  "kernelspec": {
   "display_name": "Python 3",
   "language": "python",
   "name": "python3"
  },
  "language_info": {
   "codemirror_mode": {
    "name": "ipython",
    "version": 3
   },
   "file_extension": ".py",
   "mimetype": "text/x-python",
   "name": "python",
   "nbconvert_exporter": "python",
   "pygments_lexer": "ipython3",
   "version": "3.6.9"
  }
 },
 "nbformat": 4,
 "nbformat_minor": 4
}
