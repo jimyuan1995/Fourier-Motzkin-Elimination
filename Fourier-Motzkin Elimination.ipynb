{
 "cells": [
  {
   "cell_type": "code",
   "execution_count": 268,
   "metadata": {},
   "outputs": [],
   "source": [
    "import numpy as np\n",
    "import itertools\n",
    "import unittest"
   ]
  },
  {
   "cell_type": "code",
   "execution_count": 272,
   "metadata": {},
   "outputs": [],
   "source": [
    "def regularise(R, k):\n",
    "    return np.apply_along_axis(lambda r : r / np.abs(r[k]) if r[k] != 0 else r, 1, R)\n",
    "\n",
    "def check_feasibility(R):\n",
    "    rhs = R.T[-1]\n",
    "    return len(list(filter(lambda v : v < 0, rhs))) == 0\n"
   ]
  },
  {
   "cell_type": "code",
   "execution_count": 252,
   "metadata": {},
   "outputs": [
    {
     "data": {
      "text/plain": [
       "True"
      ]
     },
     "execution_count": 252,
     "metadata": {},
     "output_type": "execute_result"
    }
   ],
   "source": [
    "np.isnan(np.nan)"
   ]
  },
  {
   "cell_type": "code",
   "execution_count": 231,
   "metadata": {},
   "outputs": [
    {
     "data": {
      "text/plain": [
       "[-4.0, inf]"
      ]
     },
     "execution_count": 231,
     "metadata": {},
     "output_type": "execute_result"
    }
   ],
   "source": [
    "def find_xn(R):\n",
    "    lower = -np.inf\n",
    "    lower_bounds = list(filter(lambda r : r[0] < 0, R))\n",
    "    if len(lower_bounds) > 0:\n",
    "        lower_bounds = map(lambda r : r[1] / r[0], lower_bounds)\n",
    "        lower = max(lower_bounds)\n",
    "\n",
    "    upper = np.inf\n",
    "    upper_bounds = list(filter(lambda r : r[0] > 0, R))\n",
    "    if len(upper_bounds) > 0:\n",
    "        upper_bounds = map(lambda r : r[1] / r[0], upper_bounds)\n",
    "        upper = min(upper_bounds)\n",
    "        \n",
    "    return [lower, upper] if lower != upper else [lower]\n",
    "    \n",
    "list(find_xn(np.array([\n",
    "    [-1, 4],\n",
    "    [-2, 8]\n",
    "])))\n",
    "\n",
    "    "
   ]
  },
  {
   "cell_type": "code",
   "execution_count": 232,
   "metadata": {},
   "outputs": [
    {
     "data": {
      "text/plain": [
       "[-inf, 2.0]"
      ]
     },
     "execution_count": 232,
     "metadata": {},
     "output_type": "execute_result"
    }
   ],
   "source": [
    "def find_xk(R, xs, k):\n",
    "    assert(R.shape[1] == (k + 1) + len(xs) + 1)\n",
    "    xs = np.pad(xs, (k + 1, 1), constant_values=0)\n",
    "    offset = np.apply_along_axis(sum, 1, R * xs)\n",
    "    S = np.column_stack([R.T[k], R.T[-1] - offset])\n",
    "    return find_xn(S)\n",
    "\n",
    "list(find_xk(np.array([[2, 1, 6]]), [2], 0))"
   ]
  },
  {
   "cell_type": "code",
   "execution_count": 315,
   "metadata": {},
   "outputs": [
    {
     "name": "stdout",
     "output_type": "stream",
     "text": [
      "back_propagate step 0:\n",
      "[array([-inf,  inf,  inf]), array([-inf,  inf, -inf]), array([-inf, -inf,  inf]), array([ inf, -inf,  inf]), array([-inf, -inf, -inf])]\n"
     ]
    },
    {
     "data": {
      "text/plain": [
       "array([[-inf,  inf,  inf],\n",
       "       [-inf,  inf, -inf],\n",
       "       [-inf, -inf,  inf],\n",
       "       [ inf, -inf,  inf],\n",
       "       [-inf, -inf, -inf]])"
      ]
     },
     "execution_count": 315,
     "metadata": {},
     "output_type": "execute_result"
    }
   ],
   "source": [
    "def back_substitute(Rs, n, k):\n",
    "    if k == n:\n",
    "        Rs = Rs[:-1]\n",
    "        k = k - 1\n",
    "       \n",
    "    Xs = list(itertools.product([np.inf, -np.inf], repeat=n-k-1))\n",
    "    \n",
    "    while k >= 0:\n",
    "        R = Rs[k]\n",
    "        Ts = []\n",
    "        for xs in Xs:\n",
    "            X_k = list(filter(lambda x : not np.isnan(x), find_xk(R, xs, k)))\n",
    "            Ts.extend(map(lambda x_k : np.hstack([[x_k], xs]), X_k))\n",
    "        Xs = Ts\n",
    "        print(f\"back_propagate step {k}:\\n{Xs}\")\n",
    "        k -= 1\n",
    "    \n",
    "    return np.array(Xs)\n",
    "\n",
    "# back_substitute([ np.array([[2, 1, 6], [1, 1, -6]]), np.array([[0, 1, 2], [0, -1, -3]]), np.array([[0, -1]]) ], 2, 2)\n",
    "back_substitute([ np.array([[2, 1, -1, 6], [1, 1, -1, -6]]) ], 3, 0)"
   ]
  },
  {
   "cell_type": "code",
   "execution_count": 312,
   "metadata": {},
   "outputs": [],
   "source": [
    "def generate_constraint(A, b):\n",
    "    return np.hstack([A, np.array([b]).T])\n"
   ]
  },
  {
   "cell_type": "code",
   "execution_count": 310,
   "metadata": {
    "scrolled": true
   },
   "outputs": [],
   "source": [
    "def linprog(c, A, b):\n",
    "    # min c^T x\n",
    "    # subject to: Ax <= b\n",
    "    R_0 = generate_constraint(A, b)\n",
    "    \n",
    "    Rs = [R_0]\n",
    "    k = 0\n",
    "    n = R_0.shape[1] - 1\n",
    "    while k < n:\n",
    "        R_k = Rs[k]\n",
    "        R_k = regularise(R_k, k)\n",
    "        print(f\"step {k}:\\n{R_k}\")\n",
    "        \n",
    "        w = R_k.T[k]\n",
    "        zeros = []\n",
    "        ones = []\n",
    "        minus_ones = []\n",
    "        for i in range(len(w)):\n",
    "            if w[i] == 0:\n",
    "                zeros.append(i)\n",
    "            elif w[i] == 1:\n",
    "                ones.append(i)\n",
    "            else:\n",
    "                minus_ones.append(i)\n",
    "\n",
    "        m = len(w)\n",
    "        if len(zeros) == m: # all 0s\n",
    "            # mark x_k arbitrary\n",
    "            Rs.append(R_k)\n",
    "            k += 1\n",
    "            continue\n",
    "\n",
    "        if len(ones) == m or len(minus_ones) == m: # all 1s or -1s\n",
    "            # we cannot reduce the system\n",
    "            Xs = back_substitute(Rs, n, k)\n",
    "            break\n",
    "\n",
    "        if len(ones) + len(zeros) == m or len(minus_ones) + len(zeros) == m:\n",
    "            # use the constraints with zero coefficients as reduced system\n",
    "            S = list(map(lambda i : R_k[i], zeros))\n",
    "            Rs.append(np.array(S))\n",
    "            k += 1\n",
    "            continue\n",
    "\n",
    "        S = list(map(lambda i : R_k[i], zeros))\n",
    "        for i in ones:\n",
    "            for j in minus_ones:\n",
    "                S.append(R_k[i] + R_k[j])\n",
    "        Rs.append(np.array(S))\n",
    "        k += 1\n",
    "    else:\n",
    "        if not check_feasibility(Rs[-1]):\n",
    "            return None\n",
    "        Xs = back_substitute(Rs, n, n)\n",
    "    \n",
    "    \n",
    "    values = map(lambda xs : (xs, np.sum(xs*c)), Xs)\n",
    "    values = filter(lambda v : not np.isnan(v[1]), values)\n",
    "    values = list(values)\n",
    "    print(f\"values:\\n{values}\")\n",
    "    return min(values, key=lambda v: v[1])"
   ]
  },
  {
   "cell_type": "code",
   "execution_count": 302,
   "metadata": {
    "scrolled": true
   },
   "outputs": [
    {
     "name": "stderr",
     "output_type": "stream",
     "text": [
      "test1 (__main__.LinProgTest) ... ok\n",
      "test2 (__main__.LinProgTest) ... ok\n",
      "test3 (__main__.LinProgTest) ... ok\n",
      "test4 (__main__.LinProgTest) ... /home/ubuntu/python-for-finance/venv/lib/python3.6/site-packages/numpy/core/fromnumeric.py:87: RuntimeWarning: invalid value encountered in reduce\n",
      "  return ufunc.reduce(obj, axis, dtype, out, **passkwargs)\n",
      "ok\n",
      "\n",
      "----------------------------------------------------------------------\n",
      "Ran 4 tests in 0.003s\n",
      "\n",
      "OK\n"
     ]
    },
    {
     "data": {
      "text/plain": [
       "<unittest.main.TestProgram at 0x7f5abc1d61d0>"
      ]
     },
     "execution_count": 302,
     "metadata": {},
     "output_type": "execute_result"
    }
   ],
   "source": [
    "class LinProgTest(unittest.TestCase):    \n",
    "    def test1(self):\n",
    "        A = [[1], [-1]]\n",
    "        b = [5, 3]\n",
    "        c = [1]\n",
    "        result = linprog(c, A, b)\n",
    "        self.assertEqual(result[1], -3)\n",
    "    \n",
    "    def test2(self):\n",
    "        A = [[1], [-1]]\n",
    "        b = [5, -6]\n",
    "        c = [1]\n",
    "        result = linprog(c, A, b)\n",
    "        self.assertEqual(result, None)\n",
    "    \n",
    "    def test3(self):\n",
    "        A = [[1], [-1]]\n",
    "        b = [5, -6]\n",
    "        c = [1]\n",
    "        result = linprog(c, A, b)\n",
    "        self.assertEqual(result, None)\n",
    "        \n",
    "    def test4(self):\n",
    "        A = [[1, 1], [1, 2]]\n",
    "        b = [6, 2]\n",
    "        c = [1, 1]\n",
    "        result = linprog(c, A, b)\n",
    "        self.assertEqual(result[1], -np.inf)\n",
    "        \n",
    "    def test5(self):\n",
    "        A = [[1, 1], [1, 2]]\n",
    "        b = [6, 2]\n",
    "        c = [1, 1]\n",
    "        result = linprog(c, A, b)\n",
    "        self.assertEqual(result[1], -np.inf)\n",
    "        \n",
    "unittest.main(argv=[''], verbosity=2, exit=False)"
   ]
  },
  {
   "cell_type": "code",
   "execution_count": 308,
   "metadata": {},
   "outputs": [
    {
     "name": "stdout",
     "output_type": "stream",
     "text": [
      "step 0:\n",
      "[[-1.  -7.5  2.5 -5.5]\n",
      " [-1.  -6.   2.  -4. ]\n",
      " [-1.  -4.5  1.5  0. ]\n",
      " [ 0.  -1.   0.   0. ]\n",
      " [ 0.   0.  -1.   0. ]]\n",
      "step 1:\n",
      "[[ 0. -1.  0.  0.]\n",
      " [ 0.  0. -1.  0.]]\n",
      "step 2:\n",
      "[[ 0.  0. -1.  0.]]\n",
      "[(array([ 5.5, -0. , -0. ]), 5.5), (array([inf, -0., -0.]), inf), (array([inf, inf, -0.]), inf)]\n"
     ]
    },
    {
     "name": "stderr",
     "output_type": "stream",
     "text": [
      "/home/ubuntu/python-for-finance/venv/lib/python3.6/site-packages/ipykernel_launcher.py:4: RuntimeWarning: invalid value encountered in multiply\n",
      "  after removing the cwd from sys.path.\n"
     ]
    },
    {
     "data": {
      "text/plain": [
       "(array([ 5.5, -0. , -0. ]), 5.5)"
      ]
     },
     "execution_count": 308,
     "metadata": {},
     "output_type": "execute_result"
    }
   ],
   "source": [
    "A = [[-2, -15, 5], [-2, -12, 4], [-2, -9, 3], [0, -1, 0], [0, 0, -1]]\n",
    "b = [-11, -8, 0, 0, 0]\n",
    "c = [1, 6, -2]\n",
    "linprog(c, A, b)"
   ]
  },
  {
   "cell_type": "code",
   "execution_count": 316,
   "metadata": {},
   "outputs": [
    {
     "name": "stdout",
     "output_type": "stream",
     "text": [
      "step 0:\n",
      "[[ 1.   7.5 -2.5  5.5]\n",
      " [ 1.   6.  -2.   4. ]\n",
      " [ 1.   4.5 -1.5  0. ]\n",
      " [ 0.  -1.   0.   0. ]\n",
      " [ 0.   0.  -1.   0. ]]\n",
      "step 1:\n",
      "[[ 0. -1.  0.  0.]\n",
      " [ 0.  0. -1.  0.]]\n",
      "step 2:\n",
      "[[ 0.  0. -1.  0.]]\n",
      "back_propagate step 2:\n",
      "[array([-0.]), array([inf])]\n",
      "back_propagate step 1:\n",
      "[array([-0., -0.]), array([inf, -0.]), array([inf, inf])]\n",
      "back_propagate step 0:\n",
      "[array([-inf,  -0.,  -0.]), array([ 0., -0., -0.]), array([-inf,  inf,  -0.]), array([-inf,  inf,  inf])]\n",
      "values:\n",
      "[(array([-inf,  -0.,  -0.]), -inf), (array([ 0., -0., -0.]), 0.0)]\n"
     ]
    },
    {
     "name": "stderr",
     "output_type": "stream",
     "text": [
      "/home/ubuntu/python-for-finance/venv/lib/python3.6/site-packages/ipykernel_launcher.py:4: RuntimeWarning: invalid value encountered in multiply\n",
      "  after removing the cwd from sys.path.\n"
     ]
    },
    {
     "data": {
      "text/plain": [
       "(array([-inf,  -0.,  -0.]), -inf)"
      ]
     },
     "execution_count": 316,
     "metadata": {},
     "output_type": "execute_result"
    }
   ],
   "source": [
    "A = [[2, 15, -5], [2, 12, -4], [2, 9, -3], [0, -1, 0], [0, 0, -1]]\n",
    "b = [11, 8, 0, 0, 0]\n",
    "c = [1, 6, -2]\n",
    "linprog(c, A, b)"
   ]
  },
  {
   "cell_type": "code",
   "execution_count": 317,
   "metadata": {},
   "outputs": [
    {
     "data": {
      "text/plain": [
       "nan"
      ]
     },
     "execution_count": 317,
     "metadata": {},
     "output_type": "execute_result"
    }
   ],
   "source": []
  },
  {
   "cell_type": "code",
   "execution_count": null,
   "metadata": {},
   "outputs": [],
   "source": []
  }
 ],
 "metadata": {
  "kernelspec": {
   "display_name": "Python 3",
   "language": "python",
   "name": "python3"
  },
  "language_info": {
   "codemirror_mode": {
    "name": "ipython",
    "version": 3
   },
   "file_extension": ".py",
   "mimetype": "text/x-python",
   "name": "python",
   "nbconvert_exporter": "python",
   "pygments_lexer": "ipython3",
   "version": "3.6.9"
  }
 },
 "nbformat": 4,
 "nbformat_minor": 4
}
